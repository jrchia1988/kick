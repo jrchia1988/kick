{
 "cells": [
  {
   "cell_type": "markdown",
   "metadata": {},
   "source": [
    "Kickstarter is an American public-benefit corporation based in Brooklyn, New York, that maintains a global crowdfunding platform focused on creativity The company's stated mission is to \"help bring creative projects to life\". Kickstarter has reportedly received more than $1.9 billion in pledges from 9.4 million backers to fund 257,000 creative projects, such as films, music, stage shows, comics, journalism, video games, technology and food-related projects.\n",
    "\n",
    "People who back Kickstarter projects are offered tangible rewards or experiences in exchange for their pledges. This model traces its roots to subscription model of arts patronage, where artists would go directly to their audiences to fund their work.\n"
   ]
  },
  {
   "cell_type": "markdown",
   "metadata": {},
   "source": [
    "First, we import the necessary libraries required for our analysis"
   ]
  },
  {
   "cell_type": "code",
   "execution_count": 24,
   "metadata": {},
   "outputs": [],
   "source": [
    "import pandas as pd\n",
    "import numpy as np\n",
    "import matplotlib.pyplot as plt\n",
    "import seaborn as sns"
   ]
  },
  {
   "cell_type": "markdown",
   "metadata": {},
   "source": [
    "Next, we can get ready to load our data on the platform. Here is a sneak preview of the dataset."
   ]
  },
  {
   "cell_type": "code",
   "execution_count": 8,
   "metadata": {},
   "outputs": [
    {
     "data": {
      "text/html": [
       "<div>\n",
       "<style scoped>\n",
       "    .dataframe tbody tr th:only-of-type {\n",
       "        vertical-align: middle;\n",
       "    }\n",
       "\n",
       "    .dataframe tbody tr th {\n",
       "        vertical-align: top;\n",
       "    }\n",
       "\n",
       "    .dataframe thead th {\n",
       "        text-align: right;\n",
       "    }\n",
       "</style>\n",
       "<table border=\"1\" class=\"dataframe\">\n",
       "  <thead>\n",
       "    <tr style=\"text-align: right;\">\n",
       "      <th></th>\n",
       "      <th>ID</th>\n",
       "      <th>name</th>\n",
       "      <th>category</th>\n",
       "      <th>main_category</th>\n",
       "      <th>currency</th>\n",
       "      <th>deadline</th>\n",
       "      <th>goal</th>\n",
       "      <th>launched</th>\n",
       "      <th>pledged</th>\n",
       "      <th>state</th>\n",
       "      <th>backers</th>\n",
       "      <th>country</th>\n",
       "      <th>usd pledged</th>\n",
       "      <th>usd_pledged_real</th>\n",
       "      <th>usd_goal_real</th>\n",
       "    </tr>\n",
       "  </thead>\n",
       "  <tbody>\n",
       "    <tr>\n",
       "      <th>0</th>\n",
       "      <td>1000002330</td>\n",
       "      <td>The Songs of Adelaide &amp; Abullah</td>\n",
       "      <td>Poetry</td>\n",
       "      <td>Publishing</td>\n",
       "      <td>GBP</td>\n",
       "      <td>2015-10-09</td>\n",
       "      <td>1000.0</td>\n",
       "      <td>2015-08-11 12:12:28</td>\n",
       "      <td>0.0</td>\n",
       "      <td>failed</td>\n",
       "      <td>0</td>\n",
       "      <td>GB</td>\n",
       "      <td>0.0</td>\n",
       "      <td>0.0</td>\n",
       "      <td>1533.95</td>\n",
       "    </tr>\n",
       "    <tr>\n",
       "      <th>1</th>\n",
       "      <td>1000003930</td>\n",
       "      <td>Greeting From Earth: ZGAC Arts Capsule For ET</td>\n",
       "      <td>Narrative Film</td>\n",
       "      <td>Film &amp; Video</td>\n",
       "      <td>USD</td>\n",
       "      <td>2017-11-01</td>\n",
       "      <td>30000.0</td>\n",
       "      <td>2017-09-02 04:43:57</td>\n",
       "      <td>2421.0</td>\n",
       "      <td>failed</td>\n",
       "      <td>15</td>\n",
       "      <td>US</td>\n",
       "      <td>100.0</td>\n",
       "      <td>2421.0</td>\n",
       "      <td>30000.00</td>\n",
       "    </tr>\n",
       "    <tr>\n",
       "      <th>2</th>\n",
       "      <td>1000004038</td>\n",
       "      <td>Where is Hank?</td>\n",
       "      <td>Narrative Film</td>\n",
       "      <td>Film &amp; Video</td>\n",
       "      <td>USD</td>\n",
       "      <td>2013-02-26</td>\n",
       "      <td>45000.0</td>\n",
       "      <td>2013-01-12 00:20:50</td>\n",
       "      <td>220.0</td>\n",
       "      <td>failed</td>\n",
       "      <td>3</td>\n",
       "      <td>US</td>\n",
       "      <td>220.0</td>\n",
       "      <td>220.0</td>\n",
       "      <td>45000.00</td>\n",
       "    </tr>\n",
       "    <tr>\n",
       "      <th>3</th>\n",
       "      <td>1000007540</td>\n",
       "      <td>ToshiCapital Rekordz Needs Help to Complete Album</td>\n",
       "      <td>Music</td>\n",
       "      <td>Music</td>\n",
       "      <td>USD</td>\n",
       "      <td>2012-04-16</td>\n",
       "      <td>5000.0</td>\n",
       "      <td>2012-03-17 03:24:11</td>\n",
       "      <td>1.0</td>\n",
       "      <td>failed</td>\n",
       "      <td>1</td>\n",
       "      <td>US</td>\n",
       "      <td>1.0</td>\n",
       "      <td>1.0</td>\n",
       "      <td>5000.00</td>\n",
       "    </tr>\n",
       "    <tr>\n",
       "      <th>4</th>\n",
       "      <td>1000011046</td>\n",
       "      <td>Community Film Project: The Art of Neighborhoo...</td>\n",
       "      <td>Film &amp; Video</td>\n",
       "      <td>Film &amp; Video</td>\n",
       "      <td>USD</td>\n",
       "      <td>2015-08-29</td>\n",
       "      <td>19500.0</td>\n",
       "      <td>2015-07-04 08:35:03</td>\n",
       "      <td>1283.0</td>\n",
       "      <td>canceled</td>\n",
       "      <td>14</td>\n",
       "      <td>US</td>\n",
       "      <td>1283.0</td>\n",
       "      <td>1283.0</td>\n",
       "      <td>19500.00</td>\n",
       "    </tr>\n",
       "  </tbody>\n",
       "</table>\n",
       "</div>"
      ],
      "text/plain": [
       "           ID                                               name  \\\n",
       "0  1000002330                    The Songs of Adelaide & Abullah   \n",
       "1  1000003930      Greeting From Earth: ZGAC Arts Capsule For ET   \n",
       "2  1000004038                                     Where is Hank?   \n",
       "3  1000007540  ToshiCapital Rekordz Needs Help to Complete Album   \n",
       "4  1000011046  Community Film Project: The Art of Neighborhoo...   \n",
       "\n",
       "         category main_category currency    deadline     goal  \\\n",
       "0          Poetry    Publishing      GBP  2015-10-09   1000.0   \n",
       "1  Narrative Film  Film & Video      USD  2017-11-01  30000.0   \n",
       "2  Narrative Film  Film & Video      USD  2013-02-26  45000.0   \n",
       "3           Music         Music      USD  2012-04-16   5000.0   \n",
       "4    Film & Video  Film & Video      USD  2015-08-29  19500.0   \n",
       "\n",
       "              launched  pledged     state  backers country  usd pledged  \\\n",
       "0  2015-08-11 12:12:28      0.0    failed        0      GB          0.0   \n",
       "1  2017-09-02 04:43:57   2421.0    failed       15      US        100.0   \n",
       "2  2013-01-12 00:20:50    220.0    failed        3      US        220.0   \n",
       "3  2012-03-17 03:24:11      1.0    failed        1      US          1.0   \n",
       "4  2015-07-04 08:35:03   1283.0  canceled       14      US       1283.0   \n",
       "\n",
       "   usd_pledged_real  usd_goal_real  \n",
       "0               0.0        1533.95  \n",
       "1            2421.0       30000.00  \n",
       "2             220.0       45000.00  \n",
       "3               1.0        5000.00  \n",
       "4            1283.0       19500.00  "
      ]
     },
     "execution_count": 8,
     "metadata": {},
     "output_type": "execute_result"
    }
   ],
   "source": [
    "dataset=pd.read_csv(\"Desktop/ks-projects-201801.csv\")\n",
    "dataset.head()"
   ]
  },
  {
   "cell_type": "markdown",
   "metadata": {},
   "source": [
    "We will also need to see the number unique values within each variable"
   ]
  },
  {
   "cell_type": "code",
   "execution_count": 10,
   "metadata": {},
   "outputs": [
    {
     "data": {
      "text/plain": [
       "ID                  378661\n",
       "name                375764\n",
       "category               159\n",
       "main_category           15\n",
       "currency                14\n",
       "deadline              3164\n",
       "goal                  8353\n",
       "launched            378089\n",
       "pledged              62130\n",
       "state                    6\n",
       "backers               3963\n",
       "country                 23\n",
       "usd pledged          95455\n",
       "usd_pledged_real    106065\n",
       "usd_goal_real        50339\n",
       "dtype: int64"
      ]
     },
     "execution_count": 10,
     "metadata": {},
     "output_type": "execute_result"
    }
   ],
   "source": [
    "dataset.nunique()"
   ]
  },
  {
   "cell_type": "markdown",
   "metadata": {},
   "source": [
    "As the objective of the notebook is to create a predictive model to gauge whether a new kickstarter project could succed in securing its target funding goal, we will need to look into each variable and identify the ones we require.\n",
    "\n",
    "Here are the variables that shall be dropped from our model\n",
    "1. ID \n",
    "    Not a feature that affects prediction\n",
    "    \n",
    "2. name\n",
    "    While frequent keywords can be extracted from the project name using NLP techniques to include our model, we shall     skip this to avoid complication.\n",
    "    \n",
    "3. category\n",
    "    This is an important variable without question, but as a categorical variable with 159 unique values, labelling and encoding it will create 158 extra variables into my model, something that I am not very inclined to do. \n",
    "\n",
    "4. currency\n",
    "   Currency and country seems to be similar variables, e.g. USD and US, GBP and GB, therefore, one of them should be dropped to avoid duplicate variables. In this case, country shall be retained within our model. \n",
    "\n",
    "5. goal\n",
    "    For the comparison between projects to be fair, the goal set should be based on the same currency. We will use usd_goal_real instead of goal.\n",
    "\n",
    "6. pledged, backers, usd pledged, usd_pledged_real\n",
    "    Variables that are not known when the project is live\n",
    "    \n",
    "7. launched, deadline\n",
    "    Instead of using these two variables directly, a new variable, duration, could be derived by taking the difference of the dates.\n",
    "\n",
    "We end up with 4 independent variables: main_category, country, duration, usd_goal_real to predict our dependent variable: state \n",
    "\n",
    "\n",
    "    \n",
    "\n",
    "    \n",
    "    \n"
   ]
  },
  {
   "cell_type": "code",
   "execution_count": 13,
   "metadata": {},
   "outputs": [
    {
     "data": {
      "text/html": [
       "<div>\n",
       "<style scoped>\n",
       "    .dataframe tbody tr th:only-of-type {\n",
       "        vertical-align: middle;\n",
       "    }\n",
       "\n",
       "    .dataframe tbody tr th {\n",
       "        vertical-align: top;\n",
       "    }\n",
       "\n",
       "    .dataframe thead th {\n",
       "        text-align: right;\n",
       "    }\n",
       "</style>\n",
       "<table border=\"1\" class=\"dataframe\">\n",
       "  <thead>\n",
       "    <tr style=\"text-align: right;\">\n",
       "      <th></th>\n",
       "      <th>main_category</th>\n",
       "      <th>country</th>\n",
       "      <th>duration</th>\n",
       "      <th>usd_goal_real</th>\n",
       "      <th>state</th>\n",
       "    </tr>\n",
       "  </thead>\n",
       "  <tbody>\n",
       "    <tr>\n",
       "      <th>0</th>\n",
       "      <td>Publishing</td>\n",
       "      <td>GB</td>\n",
       "      <td>58</td>\n",
       "      <td>1533.95</td>\n",
       "      <td>failed</td>\n",
       "    </tr>\n",
       "    <tr>\n",
       "      <th>1</th>\n",
       "      <td>Film &amp; Video</td>\n",
       "      <td>US</td>\n",
       "      <td>59</td>\n",
       "      <td>30000.00</td>\n",
       "      <td>failed</td>\n",
       "    </tr>\n",
       "    <tr>\n",
       "      <th>2</th>\n",
       "      <td>Film &amp; Video</td>\n",
       "      <td>US</td>\n",
       "      <td>44</td>\n",
       "      <td>45000.00</td>\n",
       "      <td>failed</td>\n",
       "    </tr>\n",
       "    <tr>\n",
       "      <th>3</th>\n",
       "      <td>Music</td>\n",
       "      <td>US</td>\n",
       "      <td>29</td>\n",
       "      <td>5000.00</td>\n",
       "      <td>failed</td>\n",
       "    </tr>\n",
       "    <tr>\n",
       "      <th>4</th>\n",
       "      <td>Film &amp; Video</td>\n",
       "      <td>US</td>\n",
       "      <td>55</td>\n",
       "      <td>19500.00</td>\n",
       "      <td>canceled</td>\n",
       "    </tr>\n",
       "  </tbody>\n",
       "</table>\n",
       "</div>"
      ],
      "text/plain": [
       "  main_category country  duration  usd_goal_real     state\n",
       "0    Publishing      GB        58        1533.95    failed\n",
       "1  Film & Video      US        59       30000.00    failed\n",
       "2  Film & Video      US        44       45000.00    failed\n",
       "3         Music      US        29        5000.00    failed\n",
       "4  Film & Video      US        55       19500.00  canceled"
      ]
     },
     "execution_count": 13,
     "metadata": {},
     "output_type": "execute_result"
    }
   ],
   "source": [
    "dataset['launched']=pd.to_datetime(dataset['launched'],format=\"%Y-%m-%d\")\n",
    "dataset['deadline']=pd.to_datetime(dataset['deadline'],format=\"%Y-%m-%d\")\n",
    "dataset['duration']=(dataset['deadline']-dataset['launched']).dt.days\n",
    "\n",
    "columns=['main_category','country','duration','usd_goal_real','state']\n",
    "projects=dataset[columns]\n",
    "projects.head()"
   ]
  },
  {
   "cell_type": "markdown",
   "metadata": {},
   "source": [
    "Now, let us take a deeper look into the possible values of the dependent variable, state."
   ]
  },
  {
   "cell_type": "code",
   "execution_count": 19,
   "metadata": {},
   "outputs": [
    {
     "data": {
      "text/plain": [
       "failed        197719\n",
       "successful    133956\n",
       "canceled       38779\n",
       "undefined       3562\n",
       "live            2799\n",
       "suspended       1846\n",
       "Name: state, dtype: int64"
      ]
     },
     "execution_count": 19,
     "metadata": {},
     "output_type": "execute_result"
    }
   ],
   "source": [
    "projects['state'].value_counts()"
   ]
  },
  {
   "cell_type": "markdown",
   "metadata": {},
   "source": [
    "The only outcomes that we are concerned about is whether the project succeeds or fails. Therefore, the rest of the outcomes must be filtered out from our modelling dataset."
   ]
  },
  {
   "cell_type": "code",
   "execution_count": 21,
   "metadata": {},
   "outputs": [],
   "source": [
    "projects=projects[projects['state'].isin((\"failed\",\"successful\"))]"
   ]
  },
  {
   "cell_type": "markdown",
   "metadata": {},
   "source": [
    "Before we start analysing, check for missing values."
   ]
  },
  {
   "cell_type": "code",
   "execution_count": 23,
   "metadata": {},
   "outputs": [
    {
     "data": {
      "text/plain": [
       "main_category    0\n",
       "country          0\n",
       "duration         0\n",
       "usd_goal_real    0\n",
       "state            0\n",
       "dtype: int64"
      ]
     },
     "execution_count": 23,
     "metadata": {},
     "output_type": "execute_result"
    }
   ],
   "source": [
    "projects.isnull().sum(axis=0)"
   ]
  },
  {
   "cell_type": "markdown",
   "metadata": {},
   "source": [
    "Wonderful! Since there are no missing variables, let us move on to our next step: labelling and encoding our categorical variables: main_category and country."
   ]
  },
  {
   "cell_type": "code",
   "execution_count": 35,
   "metadata": {},
   "outputs": [],
   "source": [
    "X=projects.loc[:,['main_category','country','duration','usd_goal_real']]\n",
    "y=projects.loc[:,'state']\n",
    "\n",
    "from sklearn.preprocessing import LabelEncoder,OneHotEncoder\n",
    "label_x1=LabelEncoder()\n",
    "label_x2=LabelEncoder()\n",
    "\n",
    "\n",
    "X['main_category']=label_x1.fit_transform(X['main_category'])\n",
    "X['country']=label_x2.fit_transform(X['country'])\n",
    "\n",
    "onehot=OneHotEncoder(categorical_features=[0])\n",
    "X=onehot.fit_transform(X).toarray()\n",
    "\n",
    "label_y=LabelEncoder()\n",
    "y=label_y.fit_transform(projects['state'])\n"
   ]
  },
  {
   "cell_type": "markdown",
   "metadata": {},
   "source": [
    "To begin the modelling process, we have to split the dataset into training set and test set first."
   ]
  },
  {
   "cell_type": "code",
   "execution_count": 37,
   "metadata": {},
   "outputs": [],
   "source": [
    "from sklearn.model_selection import train_test_split\n",
    "X_train,X_test,y_train,y_test=train_test_split(X,y,test_size=0.25,random_state=0)"
   ]
  },
  {
   "cell_type": "markdown",
   "metadata": {},
   "source": [
    "We will need to standardise the variables first to prevent any variable to hold an unfair influence in the model due to the magnitude of its values."
   ]
  },
  {
   "cell_type": "code",
   "execution_count": 38,
   "metadata": {},
   "outputs": [],
   "source": [
    "from sklearn.preprocessing import StandardScaler\n",
    "sc=StandardScaler()\n",
    "X_train=sc.fit_transform(X_train)\n",
    "X_test=sc.transform(X_test)"
   ]
  },
  {
   "cell_type": "markdown",
   "metadata": {},
   "source": [
    "Finally, to the exciting part where we start modelling. For this kernel, we shall be using 3-layer artificial neural network with 9 nodes each in our hidden layers to build our deep model. We will run batch sizes in sets of 32 over 100 iterations."
   ]
  },
  {
   "cell_type": "code",
   "execution_count": null,
   "metadata": {},
   "outputs": [
    {
     "name": "stdout",
     "output_type": "stream",
     "text": [
      "Epoch 1/100\n",
      "248756/248756 [==============================] - 19s 77us/step - loss: 0.6367 - acc: 0.6360\n",
      "Epoch 2/100\n",
      "248756/248756 [==============================] - 11s 45us/step - loss: 0.6285 - acc: 0.6413\n",
      "Epoch 3/100\n",
      "248756/248756 [==============================] - 9s 36us/step - loss: 0.6271 - acc: 0.6429\n",
      "Epoch 4/100\n",
      "248756/248756 [==============================] - 9s 38us/step - loss: 0.6259 - acc: 0.6441\n",
      "Epoch 5/100\n",
      "248756/248756 [==============================] - 9s 38us/step - loss: 0.6252 - acc: 0.6455\n",
      "Epoch 6/100\n",
      "248756/248756 [==============================] - 9s 36us/step - loss: 0.6247 - acc: 0.6455\n",
      "Epoch 7/100\n",
      "248756/248756 [==============================] - 10s 38us/step - loss: 0.6241 - acc: 0.6460\n",
      "Epoch 8/100\n",
      "248756/248756 [==============================] - 9s 37us/step - loss: 0.6235 - acc: 0.6469\n",
      "Epoch 9/100\n",
      "248756/248756 [==============================] - 10s 40us/step - loss: 0.6232 - acc: 0.6468\n",
      "Epoch 10/100\n",
      "248756/248756 [==============================] - 11s 43us/step - loss: 0.6229 - acc: 0.6471\n",
      "Epoch 11/100\n",
      "248756/248756 [==============================] - 10s 39us/step - loss: 0.6226 - acc: 0.6472\n",
      "Epoch 12/100\n",
      "248756/248756 [==============================] - 11s 43us/step - loss: 0.6225 - acc: 0.6474\n",
      "Epoch 13/100\n",
      "248756/248756 [==============================] - 10s 41us/step - loss: 0.6222 - acc: 0.6475\n",
      "Epoch 14/100\n",
      "248756/248756 [==============================] - 10s 41us/step - loss: 0.6219 - acc: 0.6475\n",
      "Epoch 15/100\n",
      "248756/248756 [==============================] - 11s 42us/step - loss: 0.6218 - acc: 0.6487\n",
      "Epoch 16/100\n",
      "248756/248756 [==============================] - 10s 42us/step - loss: 0.6216 - acc: 0.6488\n",
      "Epoch 17/100\n",
      "248756/248756 [==============================] - 10s 41us/step - loss: 0.6211 - acc: 0.6500\n",
      "Epoch 18/100\n",
      "248756/248756 [==============================] - 10s 41us/step - loss: 0.6208 - acc: 0.6496\n",
      "Epoch 19/100\n",
      "248756/248756 [==============================] - 9s 38us/step - loss: 0.6202 - acc: 0.6492\n",
      "Epoch 20/100\n",
      "248756/248756 [==============================] - 10s 42us/step - loss: 0.6198 - acc: 0.6504\n",
      "Epoch 21/100\n",
      "248756/248756 [==============================] - 10s 42us/step - loss: 0.6192 - acc: 0.6507\n",
      "Epoch 22/100\n",
      "248756/248756 [==============================] - 11s 44us/step - loss: 0.6190 - acc: 0.6503\n",
      "Epoch 23/100\n",
      "248756/248756 [==============================] - 12s 47us/step - loss: 0.6187 - acc: 0.6518\n",
      "Epoch 24/100\n",
      "248756/248756 [==============================] - 10s 41us/step - loss: 0.6185 - acc: 0.6513\n",
      "Epoch 25/100\n",
      "248756/248756 [==============================] - 11s 45us/step - loss: 0.6183 - acc: 0.6513\n",
      "Epoch 26/100\n",
      "248756/248756 [==============================] - 13s 51us/step - loss: 0.6181 - acc: 0.6517\n",
      "Epoch 27/100\n",
      "248756/248756 [==============================] - 13s 52us/step - loss: 0.6179 - acc: 0.6519\n",
      "Epoch 28/100\n",
      "248756/248756 [==============================] - 12s 49us/step - loss: 0.6179 - acc: 0.6524\n",
      "Epoch 29/100\n",
      "248756/248756 [==============================] - 13s 50us/step - loss: 0.6177 - acc: 0.6523\n",
      "Epoch 30/100\n",
      "248756/248756 [==============================] - 11s 46us/step - loss: 0.6177 - acc: 0.6523\n",
      "Epoch 31/100\n",
      "248756/248756 [==============================] - 12s 50us/step - loss: 0.6175 - acc: 0.6530\n",
      "Epoch 32/100\n",
      "248756/248756 [==============================] - 16s 63us/step - loss: 0.6173 - acc: 0.6526\n",
      "Epoch 33/100\n",
      "248756/248756 [==============================] - 17s 66us/step - loss: 0.6173 - acc: 0.6528\n",
      "Epoch 34/100\n",
      "248756/248756 [==============================] - 12s 49us/step - loss: 0.6170 - acc: 0.6526\n",
      "Epoch 35/100\n",
      "248756/248756 [==============================] - 13s 53us/step - loss: 0.6169 - acc: 0.6527\n",
      "Epoch 36/100\n",
      "248756/248756 [==============================] - 10s 40us/step - loss: 0.6169 - acc: 0.6531\n",
      "Epoch 37/100\n",
      "248756/248756 [==============================] - 10s 42us/step - loss: 0.6167 - acc: 0.6540\n",
      "Epoch 38/100\n",
      "248756/248756 [==============================] - 10s 41us/step - loss: 0.6166 - acc: 0.6529\n",
      "Epoch 39/100\n",
      "248756/248756 [==============================] - 10s 40us/step - loss: 0.6166 - acc: 0.6535\n",
      "Epoch 40/100\n",
      "248756/248756 [==============================] - 10s 42us/step - loss: 0.6165 - acc: 0.6537\n",
      "Epoch 41/100\n",
      "248756/248756 [==============================] - 10s 38us/step - loss: 0.6167 - acc: 0.6522\n",
      "Epoch 42/100\n",
      "248756/248756 [==============================] - 11s 42us/step - loss: 0.6165 - acc: 0.6536\n",
      "Epoch 43/100\n",
      "248756/248756 [==============================] - 10s 41us/step - loss: 0.6162 - acc: 0.6538\n",
      "Epoch 44/100\n",
      "189344/248756 [=====================>........] - ETA: 2s - loss: 0.6170 - acc: 0.6526"
     ]
    }
   ],
   "source": [
    "import keras\n",
    "from keras.models import Sequential\n",
    "from keras.layers import Dense\n",
    "\n",
    "classifier=Sequential()\n",
    "classifier.add(Dense(units=9,kernel_initializer='uniform',activation='relu',input_dim=18))\n",
    "classifier.add(Dense(units=9,kernel_initializer='uniform',activation='relu'))\n",
    "classifier.add(Dense(units=1,kernel_initializer='uniform',activation='sigmoid'))\n",
    "classifier.compile(optimizer='adam',loss='binary_crossentropy',metrics=['accuracy'])\n",
    "classifier.fit(X_train,y_train,batch_size=32,epochs=100)"
   ]
  },
  {
   "cell_type": "markdown",
   "metadata": {},
   "source": [
    "As can be seen, accuracy of results hover around 65%. There could be areas of improvement in terms of tweaking the hyperparameters like the no. of hidden layers, no. of nodes, batch size or no. of iterations. However, my guess is that the largest area of improvement to the model could come in extracting repetitive keywords from project names that are commonly associated with either success or failure."
   ]
  }
 ],
 "metadata": {
  "kernelspec": {
   "display_name": "Python 3",
   "language": "python",
   "name": "python3"
  },
  "language_info": {
   "codemirror_mode": {
    "name": "ipython",
    "version": 3
   },
   "file_extension": ".py",
   "mimetype": "text/x-python",
   "name": "python",
   "nbconvert_exporter": "python",
   "pygments_lexer": "ipython3",
   "version": "3.6.5"
  }
 },
 "nbformat": 4,
 "nbformat_minor": 2
}
